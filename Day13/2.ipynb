{
 "cells": [
  {
   "cell_type": "code",
   "execution_count": 2,
   "metadata": {},
   "outputs": [
    {
     "data": {
      "image/png": "[encoded data removed]",
      "text/plain": [
       "<Figure size 432x288 with 1 Axes>"
      ]
     },
     "metadata": {
      "needs_background": "light"
     },
     "output_type": "display_data"
    }
   ],
   "source": [
    "import numpy as np\n",
    "with open('input.txt','r') as f:\n",
    "    data=f.read().splitlines()\n",
    "\n",
    "xs,ys=[],[]\n",
    "for line in data:\n",
    "    x,y=map(int,line.split(','))\n",
    "    xs.append(x)\n",
    "    ys.append(y)\n",
    "\n",
    "x_max,y_max=max(xs),max(ys)\n",
    "\n",
    "# print(x_max,y_max)\n",
    "\n",
    "xs=np.array(xs)\n",
    "ys=np.array(ys)\n",
    "\n",
    "grid=np.zeros((y_max+1,x_max+1),dtype=int)\n",
    "grid[ys,xs]=1\n",
    "\n",
    "with open('instructions.txt','r') as f:\n",
    "    data=f.read().splitlines()\n",
    "\n",
    "for line in data:\n",
    "    ax,val = (line.split()[-1]).split('=')\n",
    "    val=int(val)\n",
    "    \n",
    "    if ax=='x':\n",
    "        tmp=np.fliplr(grid[:,val+1:])\n",
    "        tx=tmp.shape[1]\n",
    "        if tx>=val:\n",
    "            grid=grid[:,:val]+tmp[:,tx-val:]\n",
    "        else:\n",
    "            grid=grid[:,:val]\n",
    "            grid[:,val-tx:]+=tmp\n",
    "    else:\n",
    "        tmp=np.flipud(grid[val+1:,:])\n",
    "        ty=tmp.shape[0]\n",
    "        if ty>=val:\n",
    "            grid=grid[:val,:]+tmp[ty-val:,:]\n",
    "        else:\n",
    "            grid=grid[:val,:]\n",
    "            grid[val-ty:,:]+=tmp\n",
    "\n",
    "import matplotlib.pyplot as plt\n",
    "plt.imshow((grid>0).astype(int))\n",
    "plt.show()"
   ]
  },
  {
   "cell_type": "code",
   "execution_count": null,
   "metadata": {},
   "outputs": [],
   "source": []
  }
 ],
 "metadata": {
  "kernelspec": {
   "display_name": "Python 3",
   "language": "python",
   "name": "python3"
  },
  "language_info": {
   "codemirror_mode": {
    "name": "ipython",
    "version": 3
   },
   "file_extension": ".py",
   "mimetype": "text/x-python",
   "name": "python",
   "nbconvert_exporter": "python",
   "pygments_lexer": "ipython3",
   "version": "3.7.4"
  }
 },
 "nbformat": 4,
 "nbformat_minor": 2
}
